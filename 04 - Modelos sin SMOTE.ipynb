{
  "nbformat": 4,
  "nbformat_minor": 0,
  "metadata": {
    "colab": {
      "provenance": [],
      "include_colab_link": true
    },
    "kernelspec": {
      "name": "python3",
      "display_name": "Python 3"
    },
    "language_info": {
      "name": "python"
    }
  },
  "cells": [
    {
      "cell_type": "markdown",
      "metadata": {
        "id": "view-in-github",
        "colab_type": "text"
      },
      "source": [
        "<a href=\"https://colab.research.google.com/github/HernanAC/TaiwaneseBankruptcyPrediction/blob/main/04%20-%20Modelos%20sin%20SMOTE.ipynb\" target=\"_parent\"><img src=\"https://colab.research.google.com/assets/colab-badge.svg\" alt=\"Open In Colab\"/></a>"
      ]
    },
    {
      "cell_type": "code",
      "source": [
        "import numpy as np\n",
        "import pandas as pd\n",
        "import matplotlib.pyplot as plt\n",
        "import seaborn as sns\n",
        "from sklearn.feature_selection import SelectFromModel, mutual_info_classif, f_classif, SelectKBest, f_regression\n",
        "from sklearn.preprocessing import StandardScaler\n",
        "from sklearn.model_selection import train_test_split\n",
        "from sklearn.datasets import make_regression\n",
        "from imblearn.over_sampling import SMOTE\n",
        "from sklearn.metrics import classification_report, confusion_matrix, accuracy_score\n",
        "from sklearn.svm import SVC\n",
        "from sklearn.linear_model import LogisticRegression"
      ],
      "metadata": {
        "id": "dCKELOmVHP9K"
      },
      "execution_count": null,
      "outputs": []
    },
    {
      "cell_type": "code",
      "source": [
        "url = 'https://raw.githubusercontent.com/HernanAC/TaiwaneseBankruptcyPrediction/main/processed_data.csv'\n",
        "data = pd.read_csv(url)"
      ],
      "metadata": {
        "id": "MUtXbEWBDZg_"
      },
      "execution_count": null,
      "outputs": []
    },
    {
      "cell_type": "markdown",
      "source": [
        "# **04 - Modelos sin SMOTE**\n"
      ],
      "metadata": {
        "id": "R097sN90DoON"
      }
    },
    {
      "cell_type": "code",
      "source": [
        "import warnings\n",
        "warnings.filterwarnings('always')\n",
        "warnings.filterwarnings('ignore')\n",
        "import numpy as np\n",
        "import pandas as pd\n",
        "import matplotlib.pyplot as plt\n",
        "from sklearn.model_selection import train_test_split\n",
        "from sklearn.metrics import confusion_matrix,mean_absolute_error, accuracy_score, mean_squared_error, precision_score, f1_score,recall_score\n",
        "from sklearn.ensemble import GradientBoostingClassifier,RandomForestClassifier\n",
        "from sklearn.model_selection import StratifiedKFold\n",
        "import seaborn as sns\n",
        "import itertools\n",
        "from sklearn.svm import SVC\n",
        "from sklearn.metrics import recall_score\n",
        "import re"
      ],
      "metadata": {
        "id": "ib2NkEuSWxR_"
      },
      "execution_count": null,
      "outputs": []
    },
    {
      "cell_type": "code",
      "source": [
        "data.columns = data.columns.str.lstrip()\n",
        "data.columns = [re.sub(r'(?<!^)(?=[A-Z])', '_', name).lower() for name in data.columns]"
      ],
      "metadata": {
        "id": "lNnVwg5_WxbM"
      },
      "execution_count": null,
      "outputs": []
    },
    {
      "cell_type": "code",
      "source": [
        "X = data.drop('bankrupt?', axis=1).values\n",
        "Y = data['bankrupt?'].values\n",
        "print (X.shape , Y.shape)"
      ],
      "metadata": {
        "colab": {
          "base_uri": "https://localhost:8080/"
        },
        "id": "juWmtSnTW8eZ",
        "outputId": "68f6eda5-c907-455e-c455-042608307613"
      },
      "execution_count": null,
      "outputs": [
        {
          "output_type": "stream",
          "name": "stdout",
          "text": [
            "(6819, 111) (6819,)\n"
          ]
        }
      ]
    },
    {
      "cell_type": "code",
      "source": [
        "X_train, X_test, y_train, y_test = train_test_split(X, Y,stratify=Y,test_size=0.30)"
      ],
      "metadata": {
        "id": "6AbLeZTgXGa9"
      },
      "execution_count": null,
      "outputs": []
    },
    {
      "cell_type": "code",
      "source": [
        "def calcularMatrizCF(matrix,titulo):\n",
        "    a = (matrix[0,0] +  matrix[0,1])\n",
        "    b = (matrix[1,0] +  matrix[1,1])\n",
        "    matrix[0,0] =  matrix[0,0] / a\n",
        "    matrix[0,1] =  matrix[0,1] / a\n",
        "    matrix[1,0] =  matrix[1,0] / b\n",
        "    matrix[1,1] =  matrix[1,1] / b \n",
        "    sns.heatmap(matrix,annot=True)\n",
        "    plt.xlabel('Label Pred')\n",
        "    plt.ylabel('Label True')\n",
        "    plt.title(titulo)\n",
        "    print(matrix)"
      ],
      "metadata": {
        "id": "UZUMfPV1XJ0z"
      },
      "execution_count": null,
      "outputs": []
    },
    {
      "cell_type": "code",
      "source": [
        "def gradient_boosting_tree(X,y,num_trees): \n",
        "    skf = StratifiedKFold(n_splits=4)\n",
        "    resultados = pd.DataFrame()\n",
        "    conf_matrix_list_of_arrays = np.zeros(2)\n",
        "    idx = 0  \n",
        "    for trees in num_trees:\n",
        "        EficienciaTrain = []\n",
        "        EficienciaVal = []\n",
        "        accuracy = []\n",
        "        Macc = []\n",
        "        Mpre = []\n",
        "        Mrec = []\n",
        "        Mf1 = []\n",
        "        print(f\"Training with {trees} trees...\")\n",
        "        for train_index, test_index in skf.split(X, y):\n",
        "            X_train, X_test = X[train_index], X[test_index]\n",
        "            y_train, y_test = y[train_index], y[test_index]\n",
        "            model = GradientBoostingClassifier(n_estimators=trees)\n",
        "            model.fit(X_train,y_train)\n",
        "            y_pred = model.predict(X_test)\n",
        "            y_pred_train = model.predict(X_train)\n",
        "            conf_matrix = confusion_matrix(y_test,y_pred)\n",
        "            conf_matrix_list_of_arrays = conf_matrix_list_of_arrays + conf_matrix\n",
        "            EficienciaTrain.append(np.mean(y_pred_train.ravel() == y_train.ravel()))\n",
        "            EficienciaVal.append(np.mean(y_pred.ravel() == y_test.ravel()))\n",
        "            accuracy.append(model.score(X_test, y_test))\n",
        "            Macc.append(accuracy_score(y_test, y_pred))\n",
        "            Mpre.append(precision_score(y_test, y_pred))\n",
        "            Mrec.append(recall_score(y_test, y_pred))\n",
        "            Mf1.append(f1_score(y_test, y_pred,average=\"weighted\"))\n",
        "        resultados.loc[idx,'número de arboles'] = trees\n",
        "        resultados.loc[idx,'eficiencia de entrenamiento'] = np.mean(EficienciaTrain)\n",
        "        resultados.loc[idx,'desviacion estandar entrenamiento'] = np.std(EficienciaTrain)\n",
        "        resultados.loc[idx,'eficiencia de prueba'] = np.mean(EficienciaVal)\n",
        "        resultados.loc[idx,'Intervalo de confianza (prueba)'] = np.std(EficienciaVal)\n",
        "        resultados.loc[idx,'accuracy real'] = np.mean(Macc)\n",
        "        resultados.loc[idx,'precision_score'] = np.mean(Mpre)\n",
        "        resultados.loc[idx,'recall_score'] = np.mean(Mrec)\n",
        "        resultados.loc[idx,'f1_score'] = np.mean(Mf1)\n",
        "        idx= idx +1\n",
        "    return (resultados, conf_matrix_list_of_arrays)"
      ],
      "metadata": {
        "id": "oEf_09cQXMkm"
      },
      "execution_count": null,
      "outputs": []
    },
    {
      "cell_type": "code",
      "source": [
        "resultados_gbt, matrix_gbt = gradient_boosting_tree(X_train,y_train,[20,50,100,200,300])"
      ],
      "metadata": {
        "colab": {
          "base_uri": "https://localhost:8080/"
        },
        "id": "a_aLkUfJXOrs",
        "outputId": "6bba1df2-972c-4f5a-a24e-0b6f3fbfddc9"
      },
      "execution_count": null,
      "outputs": [
        {
          "output_type": "stream",
          "name": "stdout",
          "text": [
            "Training with 20 trees...\n",
            "Training with 50 trees...\n",
            "Training with 100 trees...\n",
            "Training with 200 trees...\n",
            "Training with 300 trees...\n"
          ]
        }
      ]
    },
    {
      "cell_type": "code",
      "source": [
        "resultados_gbt"
      ],
      "metadata": {
        "colab": {
          "base_uri": "https://localhost:8080/",
          "height": 206
        },
        "id": "q958ytjJXQZy",
        "outputId": "ebf5ec19-59f0-4861-8023-e4d3bdb85153"
      },
      "execution_count": null,
      "outputs": [
        {
          "output_type": "execute_result",
          "data": {
            "text/plain": [
              "   número de arboles  eficiencia de entrenamiento  \\\n",
              "0               20.0                     0.981842   \n",
              "1               50.0                     0.990572   \n",
              "2              100.0                     0.996438   \n",
              "3              200.0                     0.999860   \n",
              "4              300.0                     1.000000   \n",
              "\n",
              "   desviacion estandar entrenamiento  eficiencia de prueba  \\\n",
              "0                           0.000624              0.969830   \n",
              "1                           0.000635              0.968782   \n",
              "2                           0.000846              0.966687   \n",
              "3                           0.000140              0.966478   \n",
              "4                           0.000000              0.968574   \n",
              "\n",
              "   Intervalo de confianza (prueba)  accuracy real  precision_score  \\\n",
              "0                         0.002062       0.969830         0.587776   \n",
              "1                         0.001249       0.968782         0.538542   \n",
              "2                         0.001823       0.966687         0.476852   \n",
              "3                         0.000583       0.966478         0.466521   \n",
              "4                         0.001501       0.968574         0.532651   \n",
              "\n",
              "   recall_score  f1_score  \n",
              "0      0.233468  0.963512  \n",
              "1      0.246795  0.963095  \n",
              "2      0.253205  0.961810  \n",
              "3      0.253711  0.961610  \n",
              "4      0.272942  0.963681  "
            ],
            "text/html": [
              "\n",
              "  <div id=\"df-551a1711-1136-43f3-b45c-3ba83d4b4856\">\n",
              "    <div class=\"colab-df-container\">\n",
              "      <div>\n",
              "<style scoped>\n",
              "    .dataframe tbody tr th:only-of-type {\n",
              "        vertical-align: middle;\n",
              "    }\n",
              "\n",
              "    .dataframe tbody tr th {\n",
              "        vertical-align: top;\n",
              "    }\n",
              "\n",
              "    .dataframe thead th {\n",
              "        text-align: right;\n",
              "    }\n",
              "</style>\n",
              "<table border=\"1\" class=\"dataframe\">\n",
              "  <thead>\n",
              "    <tr style=\"text-align: right;\">\n",
              "      <th></th>\n",
              "      <th>número de arboles</th>\n",
              "      <th>eficiencia de entrenamiento</th>\n",
              "      <th>desviacion estandar entrenamiento</th>\n",
              "      <th>eficiencia de prueba</th>\n",
              "      <th>Intervalo de confianza (prueba)</th>\n",
              "      <th>accuracy real</th>\n",
              "      <th>precision_score</th>\n",
              "      <th>recall_score</th>\n",
              "      <th>f1_score</th>\n",
              "    </tr>\n",
              "  </thead>\n",
              "  <tbody>\n",
              "    <tr>\n",
              "      <th>0</th>\n",
              "      <td>20.0</td>\n",
              "      <td>0.981842</td>\n",
              "      <td>0.000624</td>\n",
              "      <td>0.969830</td>\n",
              "      <td>0.002062</td>\n",
              "      <td>0.969830</td>\n",
              "      <td>0.587776</td>\n",
              "      <td>0.233468</td>\n",
              "      <td>0.963512</td>\n",
              "    </tr>\n",
              "    <tr>\n",
              "      <th>1</th>\n",
              "      <td>50.0</td>\n",
              "      <td>0.990572</td>\n",
              "      <td>0.000635</td>\n",
              "      <td>0.968782</td>\n",
              "      <td>0.001249</td>\n",
              "      <td>0.968782</td>\n",
              "      <td>0.538542</td>\n",
              "      <td>0.246795</td>\n",
              "      <td>0.963095</td>\n",
              "    </tr>\n",
              "    <tr>\n",
              "      <th>2</th>\n",
              "      <td>100.0</td>\n",
              "      <td>0.996438</td>\n",
              "      <td>0.000846</td>\n",
              "      <td>0.966687</td>\n",
              "      <td>0.001823</td>\n",
              "      <td>0.966687</td>\n",
              "      <td>0.476852</td>\n",
              "      <td>0.253205</td>\n",
              "      <td>0.961810</td>\n",
              "    </tr>\n",
              "    <tr>\n",
              "      <th>3</th>\n",
              "      <td>200.0</td>\n",
              "      <td>0.999860</td>\n",
              "      <td>0.000140</td>\n",
              "      <td>0.966478</td>\n",
              "      <td>0.000583</td>\n",
              "      <td>0.966478</td>\n",
              "      <td>0.466521</td>\n",
              "      <td>0.253711</td>\n",
              "      <td>0.961610</td>\n",
              "    </tr>\n",
              "    <tr>\n",
              "      <th>4</th>\n",
              "      <td>300.0</td>\n",
              "      <td>1.000000</td>\n",
              "      <td>0.000000</td>\n",
              "      <td>0.968574</td>\n",
              "      <td>0.001501</td>\n",
              "      <td>0.968574</td>\n",
              "      <td>0.532651</td>\n",
              "      <td>0.272942</td>\n",
              "      <td>0.963681</td>\n",
              "    </tr>\n",
              "  </tbody>\n",
              "</table>\n",
              "</div>\n",
              "      <button class=\"colab-df-convert\" onclick=\"convertToInteractive('df-551a1711-1136-43f3-b45c-3ba83d4b4856')\"\n",
              "              title=\"Convert this dataframe to an interactive table.\"\n",
              "              style=\"display:none;\">\n",
              "        \n",
              "  <svg xmlns=\"http://www.w3.org/2000/svg\" height=\"24px\"viewBox=\"0 0 24 24\"\n",
              "       width=\"24px\">\n",
              "    <path d=\"M0 0h24v24H0V0z\" fill=\"none\"/>\n",
              "    <path d=\"M18.56 5.44l.94 2.06.94-2.06 2.06-.94-2.06-.94-.94-2.06-.94 2.06-2.06.94zm-11 1L8.5 8.5l.94-2.06 2.06-.94-2.06-.94L8.5 2.5l-.94 2.06-2.06.94zm10 10l.94 2.06.94-2.06 2.06-.94-2.06-.94-.94-2.06-.94 2.06-2.06.94z\"/><path d=\"M17.41 7.96l-1.37-1.37c-.4-.4-.92-.59-1.43-.59-.52 0-1.04.2-1.43.59L10.3 9.45l-7.72 7.72c-.78.78-.78 2.05 0 2.83L4 21.41c.39.39.9.59 1.41.59.51 0 1.02-.2 1.41-.59l7.78-7.78 2.81-2.81c.8-.78.8-2.07 0-2.86zM5.41 20L4 18.59l7.72-7.72 1.47 1.35L5.41 20z\"/>\n",
              "  </svg>\n",
              "      </button>\n",
              "      \n",
              "  <style>\n",
              "    .colab-df-container {\n",
              "      display:flex;\n",
              "      flex-wrap:wrap;\n",
              "      gap: 12px;\n",
              "    }\n",
              "\n",
              "    .colab-df-convert {\n",
              "      background-color: #E8F0FE;\n",
              "      border: none;\n",
              "      border-radius: 50%;\n",
              "      cursor: pointer;\n",
              "      display: none;\n",
              "      fill: #1967D2;\n",
              "      height: 32px;\n",
              "      padding: 0 0 0 0;\n",
              "      width: 32px;\n",
              "    }\n",
              "\n",
              "    .colab-df-convert:hover {\n",
              "      background-color: #E2EBFA;\n",
              "      box-shadow: 0px 1px 2px rgba(60, 64, 67, 0.3), 0px 1px 3px 1px rgba(60, 64, 67, 0.15);\n",
              "      fill: #174EA6;\n",
              "    }\n",
              "\n",
              "    [theme=dark] .colab-df-convert {\n",
              "      background-color: #3B4455;\n",
              "      fill: #D2E3FC;\n",
              "    }\n",
              "\n",
              "    [theme=dark] .colab-df-convert:hover {\n",
              "      background-color: #434B5C;\n",
              "      box-shadow: 0px 1px 3px 1px rgba(0, 0, 0, 0.15);\n",
              "      filter: drop-shadow(0px 1px 2px rgba(0, 0, 0, 0.3));\n",
              "      fill: #FFFFFF;\n",
              "    }\n",
              "  </style>\n",
              "\n",
              "      <script>\n",
              "        const buttonEl =\n",
              "          document.querySelector('#df-551a1711-1136-43f3-b45c-3ba83d4b4856 button.colab-df-convert');\n",
              "        buttonEl.style.display =\n",
              "          google.colab.kernel.accessAllowed ? 'block' : 'none';\n",
              "\n",
              "        async function convertToInteractive(key) {\n",
              "          const element = document.querySelector('#df-551a1711-1136-43f3-b45c-3ba83d4b4856');\n",
              "          const dataTable =\n",
              "            await google.colab.kernel.invokeFunction('convertToInteractive',\n",
              "                                                     [key], {});\n",
              "          if (!dataTable) return;\n",
              "\n",
              "          const docLinkHtml = 'Like what you see? Visit the ' +\n",
              "            '<a target=\"_blank\" href=https://colab.research.google.com/notebooks/data_table.ipynb>data table notebook</a>'\n",
              "            + ' to learn more about interactive tables.';\n",
              "          element.innerHTML = '';\n",
              "          dataTable['output_type'] = 'display_data';\n",
              "          await google.colab.output.renderOutput(dataTable, element);\n",
              "          const docLink = document.createElement('div');\n",
              "          docLink.innerHTML = docLinkHtml;\n",
              "          element.appendChild(docLink);\n",
              "        }\n",
              "      </script>\n",
              "    </div>\n",
              "  </div>\n",
              "  "
            ]
          },
          "metadata": {},
          "execution_count": 13
        }
      ]
    },
    {
      "cell_type": "code",
      "source": [
        "calcularMatrizCF(matrix_gbt, \"Matriz de confusión GBT\")"
      ],
      "metadata": {
        "colab": {
          "base_uri": "https://localhost:8080/",
          "height": 507
        },
        "id": "iWoApDGIXSl3",
        "outputId": "853dae73-c610-4cf3-dc9a-529e7e196a29"
      },
      "execution_count": null,
      "outputs": [
        {
          "output_type": "stream",
          "name": "stdout",
          "text": [
            "[[0.99194631 0.00805369]\n",
            " [0.74805195 0.25194805]]\n"
          ]
        },
        {
          "output_type": "display_data",
          "data": {
            "text/plain": [
              "<Figure size 640x480 with 2 Axes>"
            ],
            "image/png": "[encoded data removed]"
          },
          "metadata": {}
        }
      ]
    },
    {
      "cell_type": "code",
      "source": [
        "def support_vector_machine(x, y, kernels, gammas,params_reg):\n",
        "    idx = 0\n",
        "    kf = StratifiedKFold(n_splits=4)\n",
        "    kernels_gammas_regs = list(itertools.product(kernels, gammas, params_reg))\n",
        "    resultados = pd.DataFrame()\n",
        "    conf_matrix_list_of_arrays = np.zeros(2)\n",
        "    for params in kernels_gammas_regs:\n",
        "        kernel, gamma, param_reg = params\n",
        "        errores_train = []\n",
        "        errores_test = []\n",
        "        EficienciaVal = []\n",
        "        pct_support_vectors = []\n",
        "        Macc = []\n",
        "        Mpre = []\n",
        "        Mrec = []\n",
        "        Mf1 = []\n",
        "        print(f\"Running with Kernel: {kernel}, Gamma: {gamma}, C: {param_reg} parameters...\")\n",
        "        for train_index, test_index in kf.split(x,y):\n",
        "            X_train, X_test = x[train_index], x[test_index]\n",
        "            y_train, y_test = y[train_index], y[test_index]  \n",
        "            svm = SVC(kernel=kernel, gamma=gamma, C= param_reg)\n",
        "            svm.fit(X=X_train, y=y_train)\n",
        "            y_train_pred = svm.predict(X=X_train)\n",
        "            y_test_pred = svm.predict(X=X_test)\n",
        "            conf_matrix = confusion_matrix(y_test, svm.predict(X_test))\n",
        "            conf_matrix_list_of_arrays = conf_matrix_list_of_arrays + conf_matrix\n",
        "            errores_train.append(accuracy_score(y_true = y_train, y_pred = y_train_pred))\n",
        "            errores_test.append(accuracy_score(y_true = y_test, y_pred = y_test_pred))\n",
        "            n_train = X_train.shape[0]\n",
        "            pct_vs = ( svm.support_vectors_.shape[0] /n_train)\n",
        "            pct_support_vectors.append(pct_vs)\n",
        "            Macc.append(accuracy_score(y_test, y_test_pred))\n",
        "            Mpre.append(precision_score(y_test, y_test_pred))\n",
        "            Mrec.append(recall_score(y_test, y_test_pred))\n",
        "            Mf1.append(f1_score(y_test, y_test_pred,average=\"weighted\",labels=np.unique(y_test_pred)))\n",
        "            EficienciaVal.append(np.mean(y_test_pred.ravel() == y_test.ravel()))\n",
        "        resultados.loc[idx,'kernel'] = kernel\n",
        "        resultados.loc[idx,'gamma'] = gamma\n",
        "        resultados.loc[idx,'param_reg'] = param_reg\n",
        "        resultados.loc[idx,'error de entrenamiento'] = np.mean(errores_train)\n",
        "        resultados.loc[idx,'error de prueba'] = np.mean(errores_test)\n",
        "        resultados.loc[idx,'% de vectores de soporte'] = np.mean(pct_support_vectors)*100\n",
        "        resultados.loc[idx,'accuracy real'] = np.mean(Macc)\n",
        "        resultados.loc[idx,'Intervalo de confianza (prueba)'] = np.std(EficienciaVal)\n",
        "        resultados.loc[idx,'precision_score'] = np.mean(Mpre)\n",
        "        resultados.loc[idx,'recall_score'] = np.mean(Mrec)\n",
        "        resultados.loc[idx,'f1_score'] = np.mean(Mf1)\n",
        "        idx+=1\n",
        "    return (resultados, conf_matrix_list_of_arrays)"
      ],
      "metadata": {
        "id": "p2jJDKTQXimL"
      },
      "execution_count": null,
      "outputs": []
    },
    {
      "cell_type": "code",
      "source": [
        "resultados_svm, matrix_svm  = support_vector_machine(x = X,y=Y,\n",
        "                                 kernels=['rbf'],\n",
        "                                 gammas = [0.01],\n",
        "                                 params_reg = [0.01]\n",
        "                                )\n",
        "resultados_svm"
      ],
      "metadata": {
        "colab": {
          "base_uri": "https://localhost:8080/",
          "height": 98
        },
        "id": "HBxEGMaYXkO-",
        "outputId": "21e48a37-c3a2-4fd4-ef54-64831d6d9e1d"
      },
      "execution_count": null,
      "outputs": [
        {
          "output_type": "stream",
          "name": "stdout",
          "text": [
            "Running with Kernel: rbf, Gamma: 0.01, C: 0.01 parameters...\n"
          ]
        },
        {
          "output_type": "execute_result",
          "data": {
            "text/plain": [
              "  kernel  gamma  param_reg  error de entrenamiento  error de prueba  \\\n",
              "0    rbf   0.01       0.01                0.967737         0.967737   \n",
              "\n",
              "   % de vectores de soporte  accuracy real  Intervalo de confianza (prueba)  \\\n",
              "0                 54.333484       0.967737                         0.000008   \n",
              "\n",
              "   precision_score  recall_score  f1_score  \n",
              "0              0.0           0.0  0.983604  "
            ],
            "text/html": [
              "\n",
              "  <div id=\"df-c7019516-53bf-468c-b832-68df66353854\">\n",
              "    <div class=\"colab-df-container\">\n",
              "      <div>\n",
              "<style scoped>\n",
              "    .dataframe tbody tr th:only-of-type {\n",
              "        vertical-align: middle;\n",
              "    }\n",
              "\n",
              "    .dataframe tbody tr th {\n",
              "        vertical-align: top;\n",
              "    }\n",
              "\n",
              "    .dataframe thead th {\n",
              "        text-align: right;\n",
              "    }\n",
              "</style>\n",
              "<table border=\"1\" class=\"dataframe\">\n",
              "  <thead>\n",
              "    <tr style=\"text-align: right;\">\n",
              "      <th></th>\n",
              "      <th>kernel</th>\n",
              "      <th>gamma</th>\n",
              "      <th>param_reg</th>\n",
              "      <th>error de entrenamiento</th>\n",
              "      <th>error de prueba</th>\n",
              "      <th>% de vectores de soporte</th>\n",
              "      <th>accuracy real</th>\n",
              "      <th>Intervalo de confianza (prueba)</th>\n",
              "      <th>precision_score</th>\n",
              "      <th>recall_score</th>\n",
              "      <th>f1_score</th>\n",
              "    </tr>\n",
              "  </thead>\n",
              "  <tbody>\n",
              "    <tr>\n",
              "      <th>0</th>\n",
              "      <td>rbf</td>\n",
              "      <td>0.01</td>\n",
              "      <td>0.01</td>\n",
              "      <td>0.967737</td>\n",
              "      <td>0.967737</td>\n",
              "      <td>54.333484</td>\n",
              "      <td>0.967737</td>\n",
              "      <td>0.000008</td>\n",
              "      <td>0.0</td>\n",
              "      <td>0.0</td>\n",
              "      <td>0.983604</td>\n",
              "    </tr>\n",
              "  </tbody>\n",
              "</table>\n",
              "</div>\n",
              "      <button class=\"colab-df-convert\" onclick=\"convertToInteractive('df-c7019516-53bf-468c-b832-68df66353854')\"\n",
              "              title=\"Convert this dataframe to an interactive table.\"\n",
              "              style=\"display:none;\">\n",
              "        \n",
              "  <svg xmlns=\"http://www.w3.org/2000/svg\" height=\"24px\"viewBox=\"0 0 24 24\"\n",
              "       width=\"24px\">\n",
              "    <path d=\"M0 0h24v24H0V0z\" fill=\"none\"/>\n",
              "    <path d=\"M18.56 5.44l.94 2.06.94-2.06 2.06-.94-2.06-.94-.94-2.06-.94 2.06-2.06.94zm-11 1L8.5 8.5l.94-2.06 2.06-.94-2.06-.94L8.5 2.5l-.94 2.06-2.06.94zm10 10l.94 2.06.94-2.06 2.06-.94-2.06-.94-.94-2.06-.94 2.06-2.06.94z\"/><path d=\"M17.41 7.96l-1.37-1.37c-.4-.4-.92-.59-1.43-.59-.52 0-1.04.2-1.43.59L10.3 9.45l-7.72 7.72c-.78.78-.78 2.05 0 2.83L4 21.41c.39.39.9.59 1.41.59.51 0 1.02-.2 1.41-.59l7.78-7.78 2.81-2.81c.8-.78.8-2.07 0-2.86zM5.41 20L4 18.59l7.72-7.72 1.47 1.35L5.41 20z\"/>\n",
              "  </svg>\n",
              "      </button>\n",
              "      \n",
              "  <style>\n",
              "    .colab-df-container {\n",
              "      display:flex;\n",
              "      flex-wrap:wrap;\n",
              "      gap: 12px;\n",
              "    }\n",
              "\n",
              "    .colab-df-convert {\n",
              "      background-color: #E8F0FE;\n",
              "      border: none;\n",
              "      border-radius: 50%;\n",
              "      cursor: pointer;\n",
              "      display: none;\n",
              "      fill: #1967D2;\n",
              "      height: 32px;\n",
              "      padding: 0 0 0 0;\n",
              "      width: 32px;\n",
              "    }\n",
              "\n",
              "    .colab-df-convert:hover {\n",
              "      background-color: #E2EBFA;\n",
              "      box-shadow: 0px 1px 2px rgba(60, 64, 67, 0.3), 0px 1px 3px 1px rgba(60, 64, 67, 0.15);\n",
              "      fill: #174EA6;\n",
              "    }\n",
              "\n",
              "    [theme=dark] .colab-df-convert {\n",
              "      background-color: #3B4455;\n",
              "      fill: #D2E3FC;\n",
              "    }\n",
              "\n",
              "    [theme=dark] .colab-df-convert:hover {\n",
              "      background-color: #434B5C;\n",
              "      box-shadow: 0px 1px 3px 1px rgba(0, 0, 0, 0.15);\n",
              "      filter: drop-shadow(0px 1px 2px rgba(0, 0, 0, 0.3));\n",
              "      fill: #FFFFFF;\n",
              "    }\n",
              "  </style>\n",
              "\n",
              "      <script>\n",
              "        const buttonEl =\n",
              "          document.querySelector('#df-c7019516-53bf-468c-b832-68df66353854 button.colab-df-convert');\n",
              "        buttonEl.style.display =\n",
              "          google.colab.kernel.accessAllowed ? 'block' : 'none';\n",
              "\n",
              "        async function convertToInteractive(key) {\n",
              "          const element = document.querySelector('#df-c7019516-53bf-468c-b832-68df66353854');\n",
              "          const dataTable =\n",
              "            await google.colab.kernel.invokeFunction('convertToInteractive',\n",
              "                                                     [key], {});\n",
              "          if (!dataTable) return;\n",
              "\n",
              "          const docLinkHtml = 'Like what you see? Visit the ' +\n",
              "            '<a target=\"_blank\" href=https://colab.research.google.com/notebooks/data_table.ipynb>data table notebook</a>'\n",
              "            + ' to learn more about interactive tables.';\n",
              "          element.innerHTML = '';\n",
              "          dataTable['output_type'] = 'display_data';\n",
              "          await google.colab.output.renderOutput(dataTable, element);\n",
              "          const docLink = document.createElement('div');\n",
              "          docLink.innerHTML = docLinkHtml;\n",
              "          element.appendChild(docLink);\n",
              "        }\n",
              "      </script>\n",
              "    </div>\n",
              "  </div>\n",
              "  "
            ]
          },
          "metadata": {},
          "execution_count": 16
        }
      ]
    }
  ]
}