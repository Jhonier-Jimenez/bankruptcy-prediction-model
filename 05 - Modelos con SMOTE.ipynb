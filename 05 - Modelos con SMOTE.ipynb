{
  "nbformat": 4,
  "nbformat_minor": 0,
  "metadata": {
    "colab": {
      "provenance": [],
      "include_colab_link": true
    },
    "kernelspec": {
      "name": "python3",
      "display_name": "Python 3"
    },
    "language_info": {
      "name": "python"
    }
  },
  "cells": [
    {
      "cell_type": "markdown",
      "metadata": {
        "id": "view-in-github",
        "colab_type": "text"
      },
      "source": [
        "<a href=\"https://colab.research.google.com/github/HernanAC/TaiwaneseBankruptcyPrediction/blob/main/05%20-%20Modelos%20con%20SMOTE.ipynb\" target=\"_parent\"><img src=\"https://colab.research.google.com/assets/colab-badge.svg\" alt=\"Open In Colab\"/></a>"
      ]
    },
    {
      "cell_type": "markdown",
      "source": [
        "# **05 - Modelos con SMOTE**"
      ],
      "metadata": {
        "id": "pgObk4BGD7EW"
      }
    },
    {
      "cell_type": "markdown",
      "source": [
        "##Preparación del entorno"
      ],
      "metadata": {
        "id": "PXoKtu4o3OcR"
      }
    },
    {
      "cell_type": "code",
      "source": [
        "!pip install xgboost\n",
        "!pip install catboost"
      ],
      "metadata": {
        "colab": {
          "base_uri": "https://localhost:8080/"
        },
        "id": "YfKTAz8t3N_l",
        "outputId": "60e11cfb-e1e2-463c-9b5f-ec5d917d3055"
      },
      "execution_count": null,
      "outputs": [
        {
          "output_type": "stream",
          "name": "stdout",
          "text": [
            "Looking in indexes: https://pypi.org/simple, https://us-python.pkg.dev/colab-wheels/public/simple/\n",
            "Requirement already satisfied: xgboost in /usr/local/lib/python3.10/dist-packages (1.7.5)\n",
            "Requirement already satisfied: numpy in /usr/local/lib/python3.10/dist-packages (from xgboost) (1.22.4)\n",
            "Requirement already satisfied: scipy in /usr/local/lib/python3.10/dist-packages (from xgboost) (1.10.1)\n",
            "Looking in indexes: https://pypi.org/simple, https://us-python.pkg.dev/colab-wheels/public/simple/\n",
            "Collecting catboost\n",
            "  Downloading catboost-1.2-cp310-cp310-manylinux2014_x86_64.whl (98.6 MB)\n",
            "\u001b[2K     \u001b[90m━━━━━━━━━━━━━━━━━━━━━━━━━━━━━━━━━━━━━━━━\u001b[0m \u001b[32m98.6/98.6 MB\u001b[0m \u001b[31m5.2 MB/s\u001b[0m eta \u001b[36m0:00:00\u001b[0m\n",
            "\u001b[?25hRequirement already satisfied: graphviz in /usr/local/lib/python3.10/dist-packages (from catboost) (0.20.1)\n",
            "Requirement already satisfied: matplotlib in /usr/local/lib/python3.10/dist-packages (from catboost) (3.7.1)\n",
            "Requirement already satisfied: numpy>=1.16.0 in /usr/local/lib/python3.10/dist-packages (from catboost) (1.22.4)\n",
            "Requirement already satisfied: pandas>=0.24 in /usr/local/lib/python3.10/dist-packages (from catboost) (1.5.3)\n",
            "Requirement already satisfied: scipy in /usr/local/lib/python3.10/dist-packages (from catboost) (1.10.1)\n",
            "Requirement already satisfied: plotly in /usr/local/lib/python3.10/dist-packages (from catboost) (5.13.1)\n",
            "Requirement already satisfied: six in /usr/local/lib/python3.10/dist-packages (from catboost) (1.16.0)\n",
            "Requirement already satisfied: python-dateutil>=2.8.1 in /usr/local/lib/python3.10/dist-packages (from pandas>=0.24->catboost) (2.8.2)\n",
            "Requirement already satisfied: pytz>=2020.1 in /usr/local/lib/python3.10/dist-packages (from pandas>=0.24->catboost) (2022.7.1)\n",
            "Requirement already satisfied: contourpy>=1.0.1 in /usr/local/lib/python3.10/dist-packages (from matplotlib->catboost) (1.0.7)\n",
            "Requirement already satisfied: cycler>=0.10 in /usr/local/lib/python3.10/dist-packages (from matplotlib->catboost) (0.11.0)\n",
            "Requirement already satisfied: fonttools>=4.22.0 in /usr/local/lib/python3.10/dist-packages (from matplotlib->catboost) (4.39.3)\n",
            "Requirement already satisfied: kiwisolver>=1.0.1 in /usr/local/lib/python3.10/dist-packages (from matplotlib->catboost) (1.4.4)\n",
            "Requirement already satisfied: packaging>=20.0 in /usr/local/lib/python3.10/dist-packages (from matplotlib->catboost) (23.1)\n",
            "Requirement already satisfied: pillow>=6.2.0 in /usr/local/lib/python3.10/dist-packages (from matplotlib->catboost) (8.4.0)\n",
            "Requirement already satisfied: pyparsing>=2.3.1 in /usr/local/lib/python3.10/dist-packages (from matplotlib->catboost) (3.0.9)\n",
            "Requirement already satisfied: tenacity>=6.2.0 in /usr/local/lib/python3.10/dist-packages (from plotly->catboost) (8.2.2)\n",
            "Installing collected packages: catboost\n",
            "Successfully installed catboost-1.2\n"
          ]
        }
      ]
    },
    {
      "cell_type": "code",
      "source": [
        "import os\n",
        "import re\n",
        "import sklearn\n",
        "import xgboost\n",
        "import numpy as np\n",
        "import pandas as pd\n",
        "import seaborn as sns\n",
        "import matplotlib.pyplot as plt\n",
        "import warnings\n",
        "warnings.filterwarnings(action=\"ignore\")"
      ],
      "metadata": {
        "id": "dGSDd1-wov7A"
      },
      "execution_count": null,
      "outputs": []
    },
    {
      "cell_type": "code",
      "source": [
        "from scipy.stats import norm\n",
        "from sklearn import tree\n",
        "from sklearn.svm import SVC\n",
        "from sklearn.metrics import roc_curve\n",
        "from imblearn.pipeline import Pipeline\n",
        "from catboost import CatBoostClassifier\n",
        "from imblearn.over_sampling import SMOTE\n",
        "from sklearn.metrics import classification_report\n",
        "from sklearn.ensemble import RandomForestClassifier, GradientBoostingClassifier\n",
        "from sklearn.linear_model import LogisticRegression\n",
        "from sklearn.model_selection import cross_val_predict\n",
        "from sklearn.model_selection import RandomizedSearchCV\n",
        "from sklearn.model_selection import KFold, cross_validate\n",
        "from sklearn.metrics import recall_score, f1_score, roc_auc_score\n",
        "from imblearn.pipeline import make_pipeline as imbalanced_make_pipeline\n",
        "from sklearn.metrics import precision_recall_curve, average_precision_score\n",
        "from sklearn.model_selection import StratifiedKFold\n",
        "from sklearn.metrics import confusion_matrix, accuracy_score, precision_score\n",
        "from sklearn.pipeline import make_pipeline\n",
        "from sklearn.model_selection import train_test_split\n",
        "from sklearn.model_selection import StratifiedShuffleSplit"
      ],
      "metadata": {
        "id": "PciRHOFPcYxv"
      },
      "execution_count": null,
      "outputs": []
    },
    {
      "cell_type": "code",
      "source": [
        "url = 'https://raw.githubusercontent.com/HernanAC/TaiwaneseBankruptcyPrediction/main/processed_data.csv'\n",
        "data = pd.read_csv(url)"
      ],
      "metadata": {
        "id": "hrez1hCq-loG"
      },
      "execution_count": null,
      "outputs": []
    },
    {
      "cell_type": "code",
      "source": [
        "X = data.drop(['Bankrupt?'],axis=1)\n",
        "y = data['Bankrupt?']"
      ],
      "metadata": {
        "id": "HqZN_LDwc97g"
      },
      "execution_count": null,
      "outputs": []
    },
    {
      "cell_type": "code",
      "source": [
        "sm = SMOTE(random_state=42)\n",
        "X_res, y_res = sm.fit_resample(X, y)"
      ],
      "metadata": {
        "id": "54ilIQuMdDrW"
      },
      "execution_count": null,
      "outputs": []
    },
    {
      "cell_type": "code",
      "source": [
        "data['Bankrupt?'].value_counts().plot(kind=\"bar\")\n",
        "plt.xlabel(\"Bankruptcy Flag\")\n",
        "plt.ylabel(\"Count\")\n",
        "plt.title(\"Before Oversampling\")\n",
        "plt.show()"
      ],
      "metadata": {
        "id": "zX-GNXN7dFsp",
        "colab": {
          "base_uri": "https://localhost:8080/",
          "height": 467
        },
        "outputId": "b5803495-16b1-46b1-9040-e4bf136ec452"
      },
      "execution_count": null,
      "outputs": [
        {
          "output_type": "display_data",
          "data": {
            "text/plain": [
              "<Figure size 640x480 with 1 Axes>"
            ],
            "image/png": "[encoded data removed]"
          },
          "metadata": {}
        }
      ]
    },
    {
      "cell_type": "code",
      "source": [
        "y_res.value_counts().plot(kind=\"bar\")\n",
        "plt.xlabel(\"Bankruptcy Flag\")\n",
        "plt.ylabel(\"Count\")\n",
        "plt.title(\"After Oversampling using SMOTE\")\n",
        "plt.show()"
      ],
      "metadata": {
        "id": "bxti3fUUdJuy",
        "colab": {
          "base_uri": "https://localhost:8080/",
          "height": 467
        },
        "outputId": "f7c775b2-7a16-4567-fadb-6fc1d8a2289b"
      },
      "execution_count": null,
      "outputs": [
        {
          "output_type": "display_data",
          "data": {
            "text/plain": [
              "<Figure size 640x480 with 1 Axes>"
            ],
            "image/png": "[encoded data removed]"
          },
          "metadata": {}
        }
      ]
    },
    {
      "cell_type": "code",
      "source": [
        "X_train, X_test, y_train, y_test = train_test_split( X_res, y_res, test_size=0.30, random_state=42,stratify=y_res)"
      ],
      "metadata": {
        "id": "aDktFmBmcIw6"
      },
      "execution_count": null,
      "outputs": []
    },
    {
      "cell_type": "code",
      "source": [
        "oversample = SMOTE()\n",
        "X,y=oversample.fit_resample(X,y)"
      ],
      "metadata": {
        "id": "ICnetaiygkvj"
      },
      "execution_count": null,
      "outputs": []
    },
    {
      "cell_type": "code",
      "source": [
        "import re\n",
        "data.columns = [re.sub(r'(?<!^)(?=[A-Z])', '_', name).lower() for name in data.columns]\n",
        "data.head()"
      ],
      "metadata": {
        "id": "RTMxeu3ThIKO",
        "colab": {
          "base_uri": "https://localhost:8080/",
          "height": 369
        },
        "outputId": "dec88fbf-9e2b-4386-a18e-b9e5bad01676"
      },
      "execution_count": null,
      "outputs": [
        {
          "output_type": "execute_result",
          "data": {
            "text/plain": [
              "   bankrupt?   _operating _gross _margin   _realized _sales _gross _margin  \\\n",
              "0          1                    0.608066                          0.601457   \n",
              "1          1                    0.610235                          0.610235   \n",
              "2          1                    0.601450                          0.601364   \n",
              "3          1                    0.583541                          0.583541   \n",
              "4          1                    0.598783                          0.598783   \n",
              "\n",
              "    _operating _profit _rate   _pre-tax net _interest _rate  \\\n",
              "0                   0.998969                       0.796887   \n",
              "1                   0.998946                       0.797380   \n",
              "2                   0.998857                       0.796403   \n",
              "3                   0.998700                       0.796967   \n",
              "4                   0.998973                       0.797366   \n",
              "\n",
              "    _after-tax net _interest _rate   _continuous interest rate (after tax)  \\\n",
              "0                         0.808809                                0.780985   \n",
              "1                         0.809301                                0.781506   \n",
              "2                         0.808388                                0.780284   \n",
              "3                         0.808966                                0.781241   \n",
              "4                         0.809304                                0.781550   \n",
              "\n",
              "    _operating _expense _rate   _research and development expense rate  \\\n",
              "0                1.256969e-04                                      0.0   \n",
              "1                2.897851e-04                                      0.0   \n",
              "2                2.361297e-04                               25500000.0   \n",
              "3                1.078888e-04                                      0.0   \n",
              "4                7.890000e+09                                      0.0   \n",
              "\n",
              "    _cash flow rate  ...  is__i_t_r__m_e_d_i_u_m  is__w_c_e__h_i_g_h  \\\n",
              "0          0.458143  ...                       0                   1   \n",
              "1          0.461867  ...                       0                   1   \n",
              "2          0.458521  ...                       0                   1   \n",
              "3          0.465705  ...                       0                   1   \n",
              "4          0.462746  ...                       0                   1   \n",
              "\n",
              "   is__w_c_e__l_o_w  is__w_c_e__m_e_d_i_u_m  is__c_f_s__h_i_g_h  \\\n",
              "0                 0                       0                   1   \n",
              "1                 0                       0                   1   \n",
              "2                 0                       0                   1   \n",
              "3                 0                       0                   1   \n",
              "4                 0                       0                   1   \n",
              "\n",
              "   is__c_f_s__l_o_w  is__c_f_s__m_e_d_i_u_m  is__n_i_t_a__h_i_g_h  \\\n",
              "0                 0                       0                     1   \n",
              "1                 0                       0                     1   \n",
              "2                 0                       0                     1   \n",
              "3                 0                       0                     1   \n",
              "4                 0                       0                     1   \n",
              "\n",
              "   is__n_i_t_a__l_o_w  is__n_i_t_a__m_e_d_i_u_m  \n",
              "0                   0                         0  \n",
              "1                   0                         0  \n",
              "2                   0                         0  \n",
              "3                   0                         0  \n",
              "4                   0                         0  \n",
              "\n",
              "[5 rows x 112 columns]"
            ],
            "text/html": [
              "\n",
              "  <div id=\"df-876a5623-dffb-4c6f-80ba-712d16056417\">\n",
              "    <div class=\"colab-df-container\">\n",
              "      <div>\n",
              "<style scoped>\n",
              "    .dataframe tbody tr th:only-of-type {\n",
              "        vertical-align: middle;\n",
              "    }\n",
              "\n",
              "    .dataframe tbody tr th {\n",
              "        vertical-align: top;\n",
              "    }\n",
              "\n",
              "    .dataframe thead th {\n",
              "        text-align: right;\n",
              "    }\n",
              "</style>\n",
              "<table border=\"1\" class=\"dataframe\">\n",
              "  <thead>\n",
              "    <tr style=\"text-align: right;\">\n",
              "      <th></th>\n",
              "      <th>bankrupt?</th>\n",
              "      <th>_operating _gross _margin</th>\n",
              "      <th>_realized _sales _gross _margin</th>\n",
              "      <th>_operating _profit _rate</th>\n",
              "      <th>_pre-tax net _interest _rate</th>\n",
              "      <th>_after-tax net _interest _rate</th>\n",
              "      <th>_continuous interest rate (after tax)</th>\n",
              "      <th>_operating _expense _rate</th>\n",
              "      <th>_research and development expense rate</th>\n",
              "      <th>_cash flow rate</th>\n",
              "      <th>...</th>\n",
              "      <th>is__i_t_r__m_e_d_i_u_m</th>\n",
              "      <th>is__w_c_e__h_i_g_h</th>\n",
              "      <th>is__w_c_e__l_o_w</th>\n",
              "      <th>is__w_c_e__m_e_d_i_u_m</th>\n",
              "      <th>is__c_f_s__h_i_g_h</th>\n",
              "      <th>is__c_f_s__l_o_w</th>\n",
              "      <th>is__c_f_s__m_e_d_i_u_m</th>\n",
              "      <th>is__n_i_t_a__h_i_g_h</th>\n",
              "      <th>is__n_i_t_a__l_o_w</th>\n",
              "      <th>is__n_i_t_a__m_e_d_i_u_m</th>\n",
              "    </tr>\n",
              "  </thead>\n",
              "  <tbody>\n",
              "    <tr>\n",
              "      <th>0</th>\n",
              "      <td>1</td>\n",
              "      <td>0.608066</td>\n",
              "      <td>0.601457</td>\n",
              "      <td>0.998969</td>\n",
              "      <td>0.796887</td>\n",
              "      <td>0.808809</td>\n",
              "      <td>0.780985</td>\n",
              "      <td>1.256969e-04</td>\n",
              "      <td>0.0</td>\n",
              "      <td>0.458143</td>\n",
              "      <td>...</td>\n",
              "      <td>0</td>\n",
              "      <td>1</td>\n",
              "      <td>0</td>\n",
              "      <td>0</td>\n",
              "      <td>1</td>\n",
              "      <td>0</td>\n",
              "      <td>0</td>\n",
              "      <td>1</td>\n",
              "      <td>0</td>\n",
              "      <td>0</td>\n",
              "    </tr>\n",
              "    <tr>\n",
              "      <th>1</th>\n",
              "      <td>1</td>\n",
              "      <td>0.610235</td>\n",
              "      <td>0.610235</td>\n",
              "      <td>0.998946</td>\n",
              "      <td>0.797380</td>\n",
              "      <td>0.809301</td>\n",
              "      <td>0.781506</td>\n",
              "      <td>2.897851e-04</td>\n",
              "      <td>0.0</td>\n",
              "      <td>0.461867</td>\n",
              "      <td>...</td>\n",
              "      <td>0</td>\n",
              "      <td>1</td>\n",
              "      <td>0</td>\n",
              "      <td>0</td>\n",
              "      <td>1</td>\n",
              "      <td>0</td>\n",
              "      <td>0</td>\n",
              "      <td>1</td>\n",
              "      <td>0</td>\n",
              "      <td>0</td>\n",
              "    </tr>\n",
              "    <tr>\n",
              "      <th>2</th>\n",
              "      <td>1</td>\n",
              "      <td>0.601450</td>\n",
              "      <td>0.601364</td>\n",
              "      <td>0.998857</td>\n",
              "      <td>0.796403</td>\n",
              "      <td>0.808388</td>\n",
              "      <td>0.780284</td>\n",
              "      <td>2.361297e-04</td>\n",
              "      <td>25500000.0</td>\n",
              "      <td>0.458521</td>\n",
              "      <td>...</td>\n",
              "      <td>0</td>\n",
              "      <td>1</td>\n",
              "      <td>0</td>\n",
              "      <td>0</td>\n",
              "      <td>1</td>\n",
              "      <td>0</td>\n",
              "      <td>0</td>\n",
              "      <td>1</td>\n",
              "      <td>0</td>\n",
              "      <td>0</td>\n",
              "    </tr>\n",
              "    <tr>\n",
              "      <th>3</th>\n",
              "      <td>1</td>\n",
              "      <td>0.583541</td>\n",
              "      <td>0.583541</td>\n",
              "      <td>0.998700</td>\n",
              "      <td>0.796967</td>\n",
              "      <td>0.808966</td>\n",
              "      <td>0.781241</td>\n",
              "      <td>1.078888e-04</td>\n",
              "      <td>0.0</td>\n",
              "      <td>0.465705</td>\n",
              "      <td>...</td>\n",
              "      <td>0</td>\n",
              "      <td>1</td>\n",
              "      <td>0</td>\n",
              "      <td>0</td>\n",
              "      <td>1</td>\n",
              "      <td>0</td>\n",
              "      <td>0</td>\n",
              "      <td>1</td>\n",
              "      <td>0</td>\n",
              "      <td>0</td>\n",
              "    </tr>\n",
              "    <tr>\n",
              "      <th>4</th>\n",
              "      <td>1</td>\n",
              "      <td>0.598783</td>\n",
              "      <td>0.598783</td>\n",
              "      <td>0.998973</td>\n",
              "      <td>0.797366</td>\n",
              "      <td>0.809304</td>\n",
              "      <td>0.781550</td>\n",
              "      <td>7.890000e+09</td>\n",
              "      <td>0.0</td>\n",
              "      <td>0.462746</td>\n",
              "      <td>...</td>\n",
              "      <td>0</td>\n",
              "      <td>1</td>\n",
              "      <td>0</td>\n",
              "      <td>0</td>\n",
              "      <td>1</td>\n",
              "      <td>0</td>\n",
              "      <td>0</td>\n",
              "      <td>1</td>\n",
              "      <td>0</td>\n",
              "      <td>0</td>\n",
              "    </tr>\n",
              "  </tbody>\n",
              "</table>\n",
              "<p>5 rows × 112 columns</p>\n",
              "</div>\n",
              "      <button class=\"colab-df-convert\" onclick=\"convertToInteractive('df-876a5623-dffb-4c6f-80ba-712d16056417')\"\n",
              "              title=\"Convert this dataframe to an interactive table.\"\n",
              "              style=\"display:none;\">\n",
              "        \n",
              "  <svg xmlns=\"http://www.w3.org/2000/svg\" height=\"24px\"viewBox=\"0 0 24 24\"\n",
              "       width=\"24px\">\n",
              "    <path d=\"M0 0h24v24H0V0z\" fill=\"none\"/>\n",
              "    <path d=\"M18.56 5.44l.94 2.06.94-2.06 2.06-.94-2.06-.94-.94-2.06-.94 2.06-2.06.94zm-11 1L8.5 8.5l.94-2.06 2.06-.94-2.06-.94L8.5 2.5l-.94 2.06-2.06.94zm10 10l.94 2.06.94-2.06 2.06-.94-2.06-.94-.94-2.06-.94 2.06-2.06.94z\"/><path d=\"M17.41 7.96l-1.37-1.37c-.4-.4-.92-.59-1.43-.59-.52 0-1.04.2-1.43.59L10.3 9.45l-7.72 7.72c-.78.78-.78 2.05 0 2.83L4 21.41c.39.39.9.59 1.41.59.51 0 1.02-.2 1.41-.59l7.78-7.78 2.81-2.81c.8-.78.8-2.07 0-2.86zM5.41 20L4 18.59l7.72-7.72 1.47 1.35L5.41 20z\"/>\n",
              "  </svg>\n",
              "      </button>\n",
              "      \n",
              "  <style>\n",
              "    .colab-df-container {\n",
              "      display:flex;\n",
              "      flex-wrap:wrap;\n",
              "      gap: 12px;\n",
              "    }\n",
              "\n",
              "    .colab-df-convert {\n",
              "      background-color: #E8F0FE;\n",
              "      border: none;\n",
              "      border-radius: 50%;\n",
              "      cursor: pointer;\n",
              "      display: none;\n",
              "      fill: #1967D2;\n",
              "      height: 32px;\n",
              "      padding: 0 0 0 0;\n",
              "      width: 32px;\n",
              "    }\n",
              "\n",
              "    .colab-df-convert:hover {\n",
              "      background-color: #E2EBFA;\n",
              "      box-shadow: 0px 1px 2px rgba(60, 64, 67, 0.3), 0px 1px 3px 1px rgba(60, 64, 67, 0.15);\n",
              "      fill: #174EA6;\n",
              "    }\n",
              "\n",
              "    [theme=dark] .colab-df-convert {\n",
              "      background-color: #3B4455;\n",
              "      fill: #D2E3FC;\n",
              "    }\n",
              "\n",
              "    [theme=dark] .colab-df-convert:hover {\n",
              "      background-color: #434B5C;\n",
              "      box-shadow: 0px 1px 3px 1px rgba(0, 0, 0, 0.15);\n",
              "      filter: drop-shadow(0px 1px 2px rgba(0, 0, 0, 0.3));\n",
              "      fill: #FFFFFF;\n",
              "    }\n",
              "  </style>\n",
              "\n",
              "      <script>\n",
              "        const buttonEl =\n",
              "          document.querySelector('#df-876a5623-dffb-4c6f-80ba-712d16056417 button.colab-df-convert');\n",
              "        buttonEl.style.display =\n",
              "          google.colab.kernel.accessAllowed ? 'block' : 'none';\n",
              "\n",
              "        async function convertToInteractive(key) {\n",
              "          const element = document.querySelector('#df-876a5623-dffb-4c6f-80ba-712d16056417');\n",
              "          const dataTable =\n",
              "            await google.colab.kernel.invokeFunction('convertToInteractive',\n",
              "                                                     [key], {});\n",
              "          if (!dataTable) return;\n",
              "\n",
              "          const docLinkHtml = 'Like what you see? Visit the ' +\n",
              "            '<a target=\"_blank\" href=https://colab.research.google.com/notebooks/data_table.ipynb>data table notebook</a>'\n",
              "            + ' to learn more about interactive tables.';\n",
              "          element.innerHTML = '';\n",
              "          dataTable['output_type'] = 'display_data';\n",
              "          await google.colab.output.renderOutput(dataTable, element);\n",
              "          const docLink = document.createElement('div');\n",
              "          docLink.innerHTML = docLinkHtml;\n",
              "          element.appendChild(docLink);\n",
              "        }\n",
              "      </script>\n",
              "    </div>\n",
              "  </div>\n",
              "  "
            ]
          },
          "metadata": {},
          "execution_count": 11
        }
      ]
    },
    {
      "cell_type": "markdown",
      "source": [
        "###Validación cruzada de k iteraciones o k-fold cross validation"
      ],
      "metadata": {
        "id": "tOH4tX3P-3MK"
      }
    },
    {
      "cell_type": "code",
      "source": [
        "skf = StratifiedKFold(n_splits=5, shuffle=False)\n",
        "\n",
        "for index_train, index_test in skf.split(X_train, y_train):\n",
        "    X_train_sm, X_val_sm = X_train.iloc[index_train], X_train.iloc[index_test]\n",
        "    y_train_sm, y_val_sm = y_train.iloc[index_train], y_train.iloc[index_test]\n",
        "\n",
        "X_train_sm = X_train_sm.values\n",
        "X_val_sm = X_val_sm.values\n",
        "y_train_sm = y_train_sm.values\n",
        "y_val_sm = y_val_sm.values"
      ],
      "metadata": {
        "id": "eGMgNTEk867g"
      },
      "execution_count": null,
      "outputs": []
    },
    {
      "cell_type": "markdown",
      "source": [
        "###Regresión Logística"
      ],
      "metadata": {
        "id": "8o2LCHnt_CXo"
      }
    },
    {
      "cell_type": "code",
      "source": [
        "accuracy_lst_reg = []\n",
        "precision_lst_reg = []\n",
        "recall_lst_reg = []\n",
        "f1_lst_reg = []\n",
        "auc_lst_reg = []\n",
        "\n",
        "log_reg_sm = LogisticRegression()\n",
        "log_reg_params = {\n",
        "    \"penalty\": ['l2'],\n",
        "    'C': [0.001, 0.01, 0.1, 1, 10, 100, 1000],\n",
        "    'class_weight': ['balanced', None],\n",
        "    'solver': ['newton-cg', 'lbfgs', 'liblinear', 'sag', 'saga']\n",
        "}\n",
        "\n",
        "rand_log_reg = RandomizedSearchCV(LogisticRegression(), log_reg_params, n_iter=4)\n",
        "\n",
        "for train, val in skf.split(X_train_sm, y_train_sm):\n",
        "    pipeline_reg = imbalanced_make_pipeline(SMOTE(sampling_strategy='minority'), rand_log_reg)\n",
        "    model_reg = pipeline_reg.fit(X_train_sm[train], y_train_sm[train])\n",
        "    best_est_reg = rand_log_reg.best_estimator_\n",
        "    prediction_reg = best_est_reg.predict(X_train_sm[val])\n",
        "\n",
        "    accuracy_lst_reg.append(pipeline_reg.score(X_train_sm[val], y_train_sm[val]))\n",
        "    precision_lst_reg.append(precision_score(y_train_sm[val], prediction_reg))\n",
        "    recall_lst_reg.append(recall_score(y_train_sm[val], prediction_reg))\n",
        "    f1_lst_reg.append(f1_score(y_train_sm[val], prediction_reg))\n",
        "    auc_lst_reg.append(roc_auc_score(y_train_sm[val], prediction_reg))\n",
        "\n",
        "mean_accuracy = np.mean(accuracy_lst_reg)\n",
        "mean_precision = np.mean(precision_lst_reg)\n",
        "mean_recall = np.mean(recall_lst_reg)\n",
        "mean_f1 = np.mean(f1_lst_reg)\n",
        "\n",
        "print('Regresión Logística con SMOTE resultados:')\n",
        "print('')\n",
        "print(\"accuracy: {}\".format(mean_accuracy))\n",
        "print(\"precision: {}\".format(mean_precision))\n",
        "print(\"recall: {}\".format(mean_recall))\n",
        "print(\"f1: {}\".format(mean_f1))"
      ],
      "metadata": {
        "id": "h882zu-k9SzP",
        "colab": {
          "base_uri": "https://localhost:8080/"
        },
        "outputId": "f280eaf8-068f-4371-97ae-a4967c4e33f0"
      },
      "execution_count": null,
      "outputs": [
        {
          "output_type": "stream",
          "name": "stdout",
          "text": [
            "Regresión Logística con SMOTE resultados:\n",
            "\n",
            "accuracy: 0.6010018472416263\n",
            "precision: 0.6444245335830787\n",
            "recall: 0.4500676589986468\n",
            "f1: 0.5299457109401133\n"
          ]
        }
      ]
    },
    {
      "cell_type": "code",
      "source": [
        "rand_log_reg.best_params_"
      ],
      "metadata": {
        "id": "LfmSwpoa976F",
        "colab": {
          "base_uri": "https://localhost:8080/"
        },
        "outputId": "15a4c88f-95fc-48e9-9db1-4f5db0d90c31"
      },
      "execution_count": null,
      "outputs": [
        {
          "output_type": "execute_result",
          "data": {
            "text/plain": [
              "{'solver': 'saga', 'penalty': 'l2', 'class_weight': None, 'C': 10}"
            ]
          },
          "metadata": {},
          "execution_count": 14
        }
      ]
    },
    {
      "cell_type": "code",
      "source": [
        "label = ['Fin.Stable', 'Fin.Unstable']\n",
        "pred_reg_sm = best_est_reg.predict(X_val_sm)\n",
        "print(classification_report(y_val_sm, pred_reg_sm, target_names=label))"
      ],
      "metadata": {
        "id": "AwNcsQF-9_Jx",
        "colab": {
          "base_uri": "https://localhost:8080/"
        },
        "outputId": "c4df7f8a-708a-4f40-dcac-54c022e9c11f"
      },
      "execution_count": null,
      "outputs": [
        {
          "output_type": "stream",
          "name": "stdout",
          "text": [
            "              precision    recall  f1-score   support\n",
            "\n",
            "  Fin.Stable       0.57      0.75      0.65       923\n",
            "Fin.Unstable       0.64      0.44      0.52       924\n",
            "\n",
            "    accuracy                           0.60      1847\n",
            "   macro avg       0.61      0.60      0.59      1847\n",
            "weighted avg       0.61      0.60      0.59      1847\n",
            "\n"
          ]
        }
      ]
    },
    {
      "cell_type": "markdown",
      "source": [
        "###Potenciación del gradiente"
      ],
      "metadata": {
        "id": "bj_WohkpeBe8"
      }
    },
    {
      "cell_type": "code",
      "source": [
        "accuracy_lst_gbc = []\n",
        "precision_lst_gbc = []\n",
        "recall_lst_gbc = []\n",
        "f1_lst_gbc = []\n",
        "auc_lst_gbc = []\n",
        "\n",
        "gbc_sm = GradientBoostingClassifier()\n",
        "gbc_params = {\n",
        "    'max_features': ['auto', 'sqrt', 'log2'],\n",
        "    'random_state': [42],\n",
        "    'n_estimators': [20, 50, 100, 200, 300]\n",
        "}\n",
        "\n",
        "rand_gbc = RandomizedSearchCV(gbc_sm, gbc_params, n_iter=4)\n",
        "\n",
        "for train, val in skf.split(X_train_sm, y_train_sm):\n",
        "    pipeline_gbc = imbalanced_make_pipeline(SMOTE(sampling_strategy='minority'), rand_gbc)\n",
        "    model_gbc = pipeline_gbc.fit(X_train_sm, y_train_sm)\n",
        "    best_est_gbc = rand_gbc.best_estimator_\n",
        "    prediction_gbc = best_est_gbc.predict(X_train_sm[val])\n",
        "\n",
        "    accuracy_lst_gbc.append(pipeline_gbc.score(X_train_sm[val], y_train_sm[val]))\n",
        "    precision_lst_gbc.append(precision_score(y_train_sm[val], prediction_gbc))\n",
        "    recall_lst_gbc.append(recall_score(y_train_sm[val], prediction_gbc))\n",
        "    f1_lst_gbc.append(f1_score(y_train_sm[val], prediction_gbc))\n",
        "    auc_lst_gbc.append(roc_auc_score(y_train_sm[val], prediction_gbc))\n",
        "\n",
        "mean_accuracy_gbc = np.mean(accuracy_lst_gbc)\n",
        "mean_precision_gbc = np.mean(precision_lst_gbc)\n",
        "mean_recall_gbc = np.mean(recall_lst_gbc)\n",
        "mean_f1_gbc = np.mean(f1_lst_gbc)\n",
        "\n",
        "print(\"accuracy: {}\".format(mean_accuracy_gbc))\n",
        "print(\"precision: {}\".format(mean_precision_gbc))\n",
        "print(\"recall: {}\".format(mean_recall_gbc))\n",
        "print(\"f1: {}\".format(mean_f1_gbc))"
      ],
      "metadata": {
        "id": "G17vd07pfe4r"
      },
      "execution_count": null,
      "outputs": []
    },
    {
      "cell_type": "code",
      "source": [
        "rand_gbc.best_params_"
      ],
      "metadata": {
        "id": "DGEHR2P5fj7Q"
      },
      "execution_count": null,
      "outputs": []
    },
    {
      "cell_type": "code",
      "source": [
        "smote_prediction_gbc = best_est_gbc.predict(X_val_sm)\n",
        "print(classification_report(y_val_sm, smote_prediction_gbc, target_names=label))"
      ],
      "metadata": {
        "id": "UEan06KNfmBu"
      },
      "execution_count": null,
      "outputs": []
    },
    {
      "cell_type": "markdown",
      "source": [
        "###Potenciación extrema del gradiente"
      ],
      "metadata": {
        "id": "uHuSmOmk_P7l"
      }
    },
    {
      "cell_type": "code",
      "source": [
        "accuracy_lst_xgb = []\n",
        "precision_lst_xgb = []\n",
        "recall_lst_xgb = []\n",
        "f1_lst_xgb = []\n",
        "auc_lst_xgb = []\n",
        "\n",
        "xgb_sm = xgboost.XGBClassifier(random_state=42)\n",
        "xgb_params = {\n",
        "    'eta': [0.1, 0.01, 0.001],\n",
        "    'eval_metric': ['logloss'],\n",
        "    'max_depth': [3, 6, 9],\n",
        "    'lambda': [1, 1.5, 2],\n",
        "    'alpha': [0, 0.5, 1]\n",
        "}\n",
        "\n",
        "rand_xgb = RandomizedSearchCV(xgb_sm, xgb_params, n_iter=4)\n",
        "\n",
        "for train, val in skf.split(X_train_sm, y_train_sm):\n",
        "    pipeline_xgb = imbalanced_make_pipeline(SMOTE(sampling_strategy='minority'), rand_xgb)\n",
        "    model_xgb = pipeline_xgb.fit(X_train_sm, y_train_sm)\n",
        "    best_est_xgb = rand_xgb.best_estimator_\n",
        "    prediction_xgb = best_est_xgb.predict(X_train_sm[val])\n",
        "\n",
        "    accuracy_lst_xgb.append(pipeline_xgb.score(X_train_sm[val], y_train_sm[val]))\n",
        "    precision_lst_xgb.append(precision_score(y_train_sm[val], prediction_xgb))\n",
        "    recall_lst_xgb.append(recall_score(y_train_sm[val], prediction_xgb))\n",
        "    f1_lst_xgb.append(f1_score(y_train_sm[val], prediction_xgb))\n",
        "    auc_lst_xgb.append(roc_auc_score(y_train_sm[val], prediction_xgb))\n",
        "\n",
        "mean_accuracy_xgb = np.mean(accuracy_lst_xgb)\n",
        "mean_precision_xgb = np.mean(precision_lst_xgb)\n",
        "mean_recall_xgb = np.mean(recall_lst_xgb)\n",
        "mean_f1_xgb = np.mean(f1_lst_xgb)\n",
        "\n",
        "print('---' * 45)\n",
        "print('Extreme Gradient Boosting (con SMOTE) resultados:')\n",
        "print('')\n",
        "print(\"accuracy: {}\".format(mean_accuracy_xgb))\n",
        "print(\"precision: {}\".format(mean_precision_xgb))\n",
        "print(\"recall: {}\".format(mean_recall_xgb))\n",
        "print(\"f1: {}\".format(mean_f1_xgb))\n",
        "print('---' * 45)"
      ],
      "metadata": {
        "id": "66rByD0e_Pnx"
      },
      "execution_count": null,
      "outputs": []
    },
    {
      "cell_type": "code",
      "source": [
        "rand_xgb.best_params_"
      ],
      "metadata": {
        "id": "pVTPq5DuAMZE"
      },
      "execution_count": null,
      "outputs": []
    },
    {
      "cell_type": "code",
      "source": [
        "smote_prediction_xgb = best_est_xgb.predict(X_val_sm)\n",
        "print(classification_report(y_val_sm, smote_prediction_xgb, target_names=label))"
      ],
      "metadata": {
        "id": "dybxpNMmAOTc"
      },
      "execution_count": null,
      "outputs": []
    },
    {
      "cell_type": "markdown",
      "source": [
        "###Bosques Aleatorios"
      ],
      "metadata": {
        "id": "mZ7mf-QTbvFx"
      }
    },
    {
      "cell_type": "code",
      "source": [
        "accuracy_lst_rfc = []\n",
        "precision_lst_rfc = []\n",
        "recall_lst_rfc = []\n",
        "f1_lst_rfc = []\n",
        "auc_lst_rfc = []\n",
        "\n",
        "rfc_sm = RandomForestClassifier()\n",
        "rfc_params = {\n",
        "    'max_features': ['auto', 'sqrt', 'log2'],\n",
        "    'random_state': [42],\n",
        "    'class_weight': ['balanced', 'balanced_subsample'],\n",
        "    'criterion': ['gini', 'entropy'],\n",
        "    'bootstrap': [True, False]\n",
        "}\n",
        "\n",
        "rand_rfc = RandomizedSearchCV(rfc_sm, rfc_params, n_iter=4)\n",
        "\n",
        "for train, val in skf.split(X_train_sm, y_train_sm):\n",
        "    pipeline_rfc = imbalanced_make_pipeline(SMOTE(sampling_strategy='minority'), rand_rfc)\n",
        "    model_rfc = pipeline_rfc.fit(X_train_sm, y_train_sm)\n",
        "    best_est_rfc = rand_rfc.best_estimator_\n",
        "    prediction_rfc = best_est_rfc.predict(X_train_sm[val])\n",
        "\n",
        "    accuracy_lst_rfc.append(pipeline_rfc.score(X_train_sm[val], y_train_sm[val]))\n",
        "    precision_lst_rfc.append(precision_score(y_train_sm[val], prediction_rfc))\n",
        "    recall_lst_rfc.append(recall_score(y_train_sm[val], prediction_rfc))\n",
        "    f1_lst_rfc.append(f1_score(y_train_sm[val], prediction_rfc))\n",
        "    auc_lst_rfc.append(roc_auc_score(y_train_sm[val], prediction_rfc))\n",
        "\n",
        "mean_accuracy_rfc = np.mean(accuracy_lst_rfc)\n",
        "mean_precision_rfc = np.mean(precision_lst_rfc)\n",
        "mean_recall_rfc = np.mean(recall_lst_rfc)\n",
        "mean_f1_rfc = np.mean(f1_lst_rfc)\n",
        "\n",
        "print('Bosques Aleatorios con SMOTE resultados:')\n",
        "print(\"accuracy: {}\".format(mean_accuracy_rfc))\n",
        "print(\"precision: {}\".format(mean_precision_rfc))\n",
        "print(\"recall: {}\".format(mean_recall_rfc))\n",
        "print(\"f1: {}\".format(mean_f1_rfc))"
      ],
      "metadata": {
        "id": "XlFt01Oxb15V"
      },
      "execution_count": null,
      "outputs": []
    },
    {
      "cell_type": "code",
      "source": [
        "rand_rfc.best_params_"
      ],
      "metadata": {
        "id": "LNoyt-EXcjNz"
      },
      "execution_count": null,
      "outputs": []
    },
    {
      "cell_type": "code",
      "source": [
        "label = ['Fin.Stable', 'Fin.Unstable']\n",
        "smote_prediction_rfc = best_est_rfc.predict(X_val_sm)\n",
        "print(classification_report(y_val_sm, smote_prediction_rfc, target_names=label))"
      ],
      "metadata": {
        "id": "CW8rRwfGclbS"
      },
      "execution_count": null,
      "outputs": []
    },
    {
      "cell_type": "markdown",
      "source": [
        "###Catboost"
      ],
      "metadata": {
        "id": "cUevRIu42hnJ"
      }
    },
    {
      "cell_type": "code",
      "source": [
        "precision_lst_cbt = []\n",
        "recall_lst_cbt = []\n",
        "f1_lst_cbt = []\n",
        "auc_lst_cbt = []\n",
        "\n",
        "cbt_sm = CatBoostClassifier(verbose=0)\n",
        "\n",
        "cbt_params = {\n",
        "    'eval_metric': ['F1'],\n",
        "    'iterations': [100, 500, 1000],\n",
        "    'learning_rate': [0.1, 0.01, 0.001],\n",
        "    'random_seed': [42],\n",
        "    'auto_class_weights': ['Balanced', 'SqrtBalanced']\n",
        "}\n",
        "\n",
        "rand_cbt = RandomizedSearchCV(cbt_sm, cbt_params, n_iter=4)\n",
        "\n",
        "for train, val in skf.split(X_train_sm, y_train_sm):\n",
        "    pipeline_cbt = imbalanced_make_pipeline(SMOTE(sampling_strategy='minority'), rand_cbt)\n",
        "    model_cbt = pipeline_cbt.fit(X_train_sm, y_train_sm)\n",
        "    best_est_cbt = rand_cbt.best_estimator_\n",
        "    prediction_cbt = best_est_cbt.predict(X_train_sm[val])\n",
        "\n",
        "    precision_lst_cbt.append(precision_score(y_train_sm[val], prediction_cbt))\n",
        "    recall_lst_cbt.append(recall_score(y_train_sm[val], prediction_cbt))\n",
        "    f1_lst_cbt.append(f1_score(y_train_sm[val], prediction_cbt))\n",
        "    auc_lst_cbt.append(roc_auc_score(y_train_sm[val], prediction_cbt))\n",
        "\n",
        "mean_precision_cbt = np.mean(precision_lst_cbt)\n",
        "mean_recall_cbt = np.mean(recall_lst_cbt)\n",
        "mean_f1_cbt = np.mean(f1_lst_cbt)\n",
        "\n",
        "print(\"precision: {}\".format(mean_precision_cbt))\n",
        "print(\"recall: {}\".format(mean_recall_cbt))\n",
        "print(\"f1: {}\".format(mean_f1_cbt))"
      ],
      "metadata": {
        "id": "ffIvkbfk20he"
      },
      "execution_count": null,
      "outputs": []
    },
    {
      "cell_type": "code",
      "source": [
        "rand_cbt.best_params_"
      ],
      "metadata": {
        "id": "DGDgkQjs26HV"
      },
      "execution_count": null,
      "outputs": []
    },
    {
      "cell_type": "code",
      "source": [
        "smote_prediction_cbt = best_est_cbt.predict(X_val_sm)\n",
        "print(classification_report(y_val_sm, smote_prediction_cbt, target_names=label))"
      ],
      "metadata": {
        "id": "BVDf602W23jm"
      },
      "execution_count": null,
      "outputs": []
    },
    {
      "cell_type": "code",
      "source": [],
      "metadata": {
        "id": "HBxZkFOM27un"
      },
      "execution_count": null,
      "outputs": []
    },
    {
      "cell_type": "markdown",
      "source": [
        "##Comparación de la efectividad de los modelos"
      ],
      "metadata": {
        "id": "yNLovGyF3ovv"
      }
    },
    {
      "cell_type": "markdown",
      "source": [],
      "metadata": {
        "id": "RqRxCluU-jYk"
      }
    },
    {
      "cell_type": "code",
      "source": [
        "from sklearn.metrics import roc_curve\n",
        "\n",
        "rfc_false_positive_rate, rfc_true_positive_rate, _ = roc_curve(y_val_sm, smote_prediction_rfc)\n",
        "gbc_false_positive_rate, gbc_true_positive_rate, _ = roc_curve(y_val_sm, smote_prediction_gbc)\n",
        "xgb_false_positive_rate, xgb_true_positive_rate, _ = roc_curve(y_val_sm, smote_prediction_xgb)\n",
        "log_false_positive_rate, log_true_positive_rate, _ = roc_curve(y_val_sm, pred_reg_sm)\n",
        "cat_false_positive_rate, cat_true_positive_rate, _ = roc_curve(y_val_sm, smote_prediction_cbt)\n",
        "\n",
        "\n",
        "def create_ROC(log_false_positive_rate, log_true_positive_rate, rfc_false_positive_rate, rfc_true_positive_rate, xgb_false_positive_rate, xgb_true_positive_rate, cat_false_positive_rate, cat_true_positive_rate, gbc_false_positive_rate, gbc_true_positive_rate):\n",
        "    plt.figure(figsize=(20,8))\n",
        "    plt.title('Curvas ROC', fontsize=14)\n",
        "    plt.plot(log_false_positive_rate, log_true_positive_rate, label='AUC Regresión logística: {:.4f}'.format(roc_auc_score(y_val_sm, pred_reg_sm)))\n",
        "    plt.plot(gbc_false_positive_rate, gbc_true_positive_rate, label='AUC Gradient Boosting: {:.4f}'.format(roc_auc_score(y_val_sm, smote_prediction_gbc)))\n",
        "    plt.plot(xgb_false_positive_rate, xgb_true_positive_rate, label='AUC XGBoost: {:.4f}'.format(roc_auc_score(y_val_sm, smote_prediction_xgb)))\n",
        "    plt.plot(rfc_false_positive_rate, rfc_true_positive_rate, label='AUC Random Forest: {:.4f}'.format(roc_auc_score(y_val_sm, smote_prediction_rfc)))\n",
        "    plt.plot(cat_false_positive_rate, cat_true_positive_rate, label='AUC CatBoost: {:.4f}'.format(roc_auc_score(y_val_sm, smote_prediction_cbt)))\n",
        "    plt.plot([0, 1], [0, 1], 'k--')\n",
        "    plt.axis([-0.01, 1, 0, 1])\n",
        "    plt.xlabel('False Positive Rate', fontsize=14)\n",
        "    plt.ylabel('True Positive Rate', fontsize=14)\n",
        "    plt.legend()\n",
        "    \n",
        "create_ROC(log_false_positive_rate, log_true_positive_rate, rfc_false_positive_rate, rfc_true_positive_rate, xgb_false_positive_rate, xgb_true_positive_rate, cat_false_positive_rate, cat_true_positive_rate, gbc_false_positive_rate, gbc_true_positive_rate)\n",
        "\n",
        "plt.show()"
      ],
      "metadata": {
        "id": "eBe05SanAICH"
      },
      "execution_count": null,
      "outputs": []
    }
  ]
}